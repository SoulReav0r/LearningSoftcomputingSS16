{
 "cells": [
  {
   "cell_type": "markdown",
   "metadata": {},
   "source": [
    "# Automatische Zeichenerkennung mittels eines Backpropagation-Netzes (SS2016)"
   ]
  },
  {
   "cell_type": "markdown",
   "metadata": {},
   "source": [
    "### Cordula Eichhorn, Hannes Schröder, Meik Jejkal"
   ]
  },
  {
   "cell_type": "markdown",
   "metadata": {},
   "source": [
    "## Aufgabenstellung\n",
    "\n",
    "Aus vorgegebenen Datensätzen menschlicher Handschriftenproben sollen mittels eines neuronalen Backpropargation Netzes die jeweiligen Großbuchstaben des 26 stelligen deutschen Alphabets erkannt werden. Zur Realisierung des Projekts wurde das scikit-learn framework vorgegeben. Die Ergebnisse in Form von Erkennungs-, Falsch- zuweisungs- und Rückweisungsraten sollen bei verschiedener Parametrisierung grafisch aufgetragen und erläutert werden. Dabei spielen folgende Punkte eine übergeordnete Rolle:\n",
    "\n",
    "• Modifikation der Parameter: Lernrate, Momentum und Anfangsbelegung der Gewichte  \n",
    "• Unterstützung für reine Feedforward-Netze (Vermaschungen, Schleifen oder weiterführenden Topologien bleiben außen vor)  \n",
    "• Konstruktionen mehrlagiger Netze mit mindestens 1 und 2 versteckten Schichten\n",
    "(hidden Layers) mit jeweils wählbarer Neuronenanzahlen  \n",
    "• Unterstützung für musterweises und epochenweises Lernen  \n",
    "• Identischer innerer Aufbau der Neuronen etwa mit sigmoider Aktivierungsfunktion \n",
    "(ohne Betrachtung verschiedener Aktivierungsfunktionen für unterschiedliche Neuronen)\n",
    "• Lernen von Einzelmustern bzw. Lernen in Epochen  \n",
    "\n",
    "Um das neuronale Netz anzulernen können Windows interne Schriftarten verwendet werden. "
   ]
  },
  {
   "cell_type": "markdown",
   "metadata": {},
   "source": [
    "## Trainingsdaten\n",
    "\n",
    "Die Trainingsdaten sind sog. pattern files (.pat) und bestehen aus einer Binärbildmatrix der Größe 14x14. Diese ist allerdings nicht direkt binär codiert. Sie enthält stattdessen -0.5 als Repräsentant für 0 und 0.5 entsprechend für 1. Mit Hilfe dieser Darstellung lassen sich sowohl handgeschriebene als auch maschinell generierte Schriftarten abbilden. Die Schriftproben wurden zuvor in vorherigen Semestern gesammelt, eingescannt und in digitaler Form bereitgestellt. Einige der Windows internen Schriftarten wurden ebenfalls in diese Form gebracht. Im Folgenden ist ein Beispiel aus einer Handschriftenprobe zu sehen:"
   ]
  },
  {
   "cell_type": "code",
   "execution_count": 7,
   "metadata": {
    "collapsed": false
   },
   "outputs": [],
   "source": [
    "# Ursprungsform der Daten:\n",
    "\n",
    "M = [\n",
    "\n",
    "[-0.50, -0.50, -0.50, -0.50, -0.50, -0.50, -0.50, -0.50, -0.50,  0.50,  0.50, -0.50, -0.50, -0.50],\n",
    "[-0.50, -0.50, -0.50, -0.50, -0.50, -0.50, -0.50, -0.50,  0.50,  0.50,  0.50, -0.50, -0.50, -0.50],\n",
    "[-0.50, -0.50, -0.50, -0.50, -0.50, -0.50, -0.50, -0.50,  0.50,  0.50,  0.50, -0.50, -0.50, -0.50], \n",
    "[-0.50, -0.50, -0.50, -0.50, -0.50, -0.50, -0.50,  0.50,  0.50,  0.50,  0.50, -0.50, -0.50, -0.50], \n",
    "[-0.50, -0.50, -0.50, -0.50, -0.50, -0.50,  0.50,  0.50,  0.50,  0.50,  0.50, -0.50, -0.50, -0.50], \n",
    "[-0.50, -0.50, -0.50, -0.50, -0.50,  0.50,  0.50,  0.50, -0.50,  0.50,  0.50, -0.50, -0.50, -0.50], \n",
    "[-0.50, -0.50, -0.50, -0.50, -0.50,  0.50,  0.50, -0.50, -0.50,  0.50,  0.50, -0.50, -0.50, -0.50], \n",
    "[-0.50, -0.50, -0.50, -0.50,  0.50,  0.50,  0.50,  0.50,  0.50,  0.50,  0.50, -0.50, -0.50, -0.50], \n",
    "[-0.50, -0.50, -0.50,  0.50,  0.50,  0.50,  0.50,  0.50,  0.50,  0.50,  0.50, -0.50, -0.50, -0.50], \n",
    "[-0.50, -0.50,  0.50,  0.50,  0.50, -0.50, -0.50, -0.50, -0.50,  0.50,  0.50, -0.50, -0.50, -0.50], \n",
    "[-0.50, -0.50,  0.50,  0.50, -0.50, -0.50, -0.50, -0.50, -0.50,  0.50,  0.50, -0.50, -0.50, -0.50], \n",
    "[-0.50, -0.50, -0.50, -0.50, -0.50, -0.50, -0.50, -0.50, -0.50,  0.50,  0.50,  0.50, -0.50, -0.50], \n",
    "[-0.50, -0.50, -0.50, -0.50, -0.50, -0.50, -0.50, -0.50, -0.50,  0.50,  0.50,  0.50, -0.50, -0.50], \n",
    "[-0.50, -0.50, -0.50, -0.50, -0.50, -0.50, -0.50, -0.50, -0.50, -0.50,  0.50,  0.50, -0.50, -0.50], \n",
    "    ]\n",
    "\n",
    "# gewünschte Form\n",
    "\n",
    "Z = [\n",
    "       \n",
    "[0, 0, 0, 0, 0, 0, 0, 0, 0, 1, 1, 0, 0, 0],\n",
    "[0, 0, 0, 0, 0, 0, 0, 0, 1, 1, 1, 0, 0, 0],\n",
    "[0, 0, 0, 0, 0, 0, 0, 0, 1, 1, 1, 0, 0, 0], \n",
    "[0, 0, 0, 0, 0, 0, 0, 1, 1, 1, 1, 0, 0, 0], \n",
    "[0, 0, 0, 0, 0, 0, 1, 1, 1, 1, 1, 0, 0, 0], \n",
    "[0, 0, 0, 0, 0, 1, 1, 1, 0, 1, 1, 0, 0, 0], \n",
    "[0, 0, 0, 0, 0, 1, 1, 0, 0, 1, 1, 0, 0, 0], \n",
    "[0, 0, 0, 0, 1, 1, 1, 1, 1, 1, 1, 0, 0, 0], \n",
    "[0, 0, 0, 1, 1, 1, 1, 1, 1, 1, 1, 0, 0, 0], \n",
    "[0, 0, 1, 1, 1, 0, 0, 0, 0, 1, 1, 0, 0, 0], \n",
    "[0, 0, 1, 1, 0, 0, 0, 0, 0, 1, 1, 0, 0, 0], \n",
    "[0, 0, 0, 0, 0, 0, 0, 0, 0, 1, 1, 1, 0, 0], \n",
    "[0, 0, 0, 0, 0, 0, 0, 0, 0, 1, 1, 1, 0, 0], \n",
    "[0, 0, 0, 0, 0, 0, 0, 0, 0, 0, 1, 1, 0, 0], \n",
    "    ]"
   ]
  },
  {
   "cell_type": "code",
   "execution_count": 8,
   "metadata": {
    "collapsed": false
   },
   "outputs": [
    {
     "data": {
      "text/plain": [
       "<matplotlib.image.AxesImage at 0x7f7674f586d8>"
      ]
     },
     "execution_count": 8,
     "metadata": {},
     "output_type": "execute_result"
    },
    {
     "data": {
      "image/png": "[encoded data removed]",
      "text/plain": [
       "<matplotlib.figure.Figure at 0x7f7677a0b3c8>"
      ]
     },
     "metadata": {},
     "output_type": "display_data"
    }
   ],
   "source": [
    "%matplotlib inline\n",
    "import matplotlib.pyplot as plt\n",
    "import numpy as np\n",
    "\n",
    "\n",
    "plt.imshow(Z, interpolation='none', cmap=plt.cm.binary)"
   ]
  },
  {
   "cell_type": "markdown",
   "metadata": {},
   "source": [
    "Trainingsdaten und Testdaten aus den .pat-Dateien lesen und in ein Binärformat umwandeln. Hierzu werden die Hilfsfunktionen createXArrayOneDim, createXArrayTwoDim und createYArray verwendet."
   ]
  },
  {
   "cell_type": "code",
   "execution_count": 9,
   "metadata": {
    "collapsed": true
   },
   "outputs": [],
   "source": [
    "#createXArrayOneDim wird benötigt um die Daten in das richtige Datenformat \n",
    "#für die fit()-Funktion vom MLPClassifier umzuwandeln.\n",
    "def createXArrayOneDim(char_pos, data):\n",
    "    pos = 4 + char_pos*(input_rows+1)\n",
    "    x_list = []\n",
    "    for i in range(pos,input_rows + pos):\n",
    "        x_list.extend(np.array([float(x) for x in data[i].split()]))\n",
    "    x_array = np.asarray(x_list)\n",
    "    x_array[x_array == 0.5] = 1\n",
    "    x_array[x_array == -0.5] = 0\n",
    "    return x_array\n",
    "\n",
    "#Ein zweidimensionales Array wird zur graphisches Darstellung (z.B. mit plt.imshow()) benötigt.\n",
    "def createXArrayTwoDim(char_pos, data):\n",
    "    pos = 4 + char_pos*(input_rows+1)\n",
    "    x_list = []\n",
    "    for i in range(pos,input_rows + pos):\n",
    "        x_list.append(np.array([float(x) for x in data[i].split()]))\n",
    "    x_array = np.asarray(x_list)\n",
    "    x_array[x_array == 0.5] = 1\n",
    "    x_array[x_array == -0.5] = 0\n",
    "    return x_array\n",
    "    \n",
    "def createYArray(char_pos, data):\n",
    "    pos = 4 + input_rows + char_pos*(input_rows+1)\n",
    "    y_list=[]\n",
    "    y_list.extend(np.array([float(x) for x in data[pos].split()]))\n",
    "    y_array = np.asarray(y_list)\n",
    "    y_array[y_array == 0.2] = 0\n",
    "    y_array[y_array == 0.8] = 1\n",
    "    return y_array\n",
    "\n",
    "#fname = \"TestHandschriften.pat\"\n",
    "fname = \"Trainingsdaten.pat\"\n",
    "with open(fname) as f:\n",
    "    trainingsdaten = f.readlines()\n",
    "\n",
    "input_rows = int(trainingsdaten[0])\n",
    "input_columns = int(trainingsdaten[1])\n",
    "output_rows = int(trainingsdaten[2])\n",
    "output_columns = int(trainingsdaten[3])"
   ]
  },
  {
   "cell_type": "code",
   "execution_count": 10,
   "metadata": {
    "collapsed": false
   },
   "outputs": [
    {
     "name": "stdout",
     "output_type": "stream",
     "text": [
      "[ 0.  0.  0.  0.  0.  1.  1.  1.  1.  0.  0.  0.  0.  0.  0.  0.  0.  0.\n",
      "  0.  1.  1.  1.  1.  0.  0.  0.  0.  0.  0.  0.  0.  0.  0.  1.  1.  1.\n",
      "  1.  0.  0.  0.  0.  0.  0.  0.  0.  0.  1.  1.  1.  1.  1.  1.  0.  0.\n",
      "  0.  0.  0.  0.  0.  0.  1.  1.  0.  0.  1.  1.  0.  0.  0.  0.  0.  0.\n",
      "  0.  0.  1.  1.  0.  0.  1.  1.  0.  0.  0.  0.  0.  0.  0.  1.  1.  1.\n",
      "  0.  0.  1.  1.  1.  0.  0.  0.  0.  0.  0.  1.  1.  0.  0.  0.  0.  1.\n",
      "  1.  0.  0.  0.  0.  0.  0.  1.  1.  1.  1.  1.  1.  1.  1.  0.  0.  0.\n",
      "  0.  0.  1.  1.  1.  1.  1.  1.  1.  1.  1.  1.  0.  0.  0.  0.  1.  1.\n",
      "  0.  0.  0.  0.  0.  1.  1.  1.  0.  0.  0.  0.  1.  1.  0.  0.  0.  0.\n",
      "  0.  0.  1.  1.  0.  0.  0.  1.  1.  1.  0.  0.  0.  0.  0.  0.  1.  1.\n",
      "  1.  0.  0.  1.  1.  0.  0.  0.  0.  0.  0.  0.  1.  1.  1.  0.]\n"
     ]
    },
    {
     "data": {
      "text/plain": [
       "<matplotlib.image.AxesImage at 0x7f7675049278>"
      ]
     },
     "execution_count": 10,
     "metadata": {},
     "output_type": "execute_result"
    },
    {
     "data": {
      "image/png": "[encoded data removed]",
      "text/plain": [
       "<matplotlib.figure.Figure at 0x7f7674f0af60>"
      ]
     },
     "metadata": {},
     "output_type": "display_data"
    }
   ],
   "source": [
    "#Charnummerierung beginnt bei 0: 0=A, 1=B, 2=C, 3=D, ...\n",
    "char = 0;\n",
    "#x_array = createXArrayOneDim(char, trainingsdaten)\n",
    "#y_array = createYArray(char, trainingsdaten)\n",
    "print(x_array)\n",
    "plt.imshow(createXArrayTwoDim(char, trainingsdaten), interpolation='none', cmap=plt.cm.binary)"
   ]
  },
  {
   "cell_type": "markdown",
   "metadata": {},
   "source": [
    "Nachdem die Trainingsdaten eingelesen wurden, werden jetzt auch die Testdaten (Windows-Schriften und Handschriften) eingelesen und in das richtige Datenformat umgewandelt. Alle Testdaten sind danach in x_test bzw y_test vorhanden."
   ]
  },
  {
   "cell_type": "code",
   "execution_count": 11,
   "metadata": {
    "collapsed": true
   },
   "outputs": [],
   "source": [
    "x_train = []\n",
    "y_train = []\n",
    "for i in range(0, 260):\n",
    "    x_train.append(createXArrayOneDim(i, trainingsdaten));\n",
    "    y_train.append(createYArray(i, trainingsdaten));\n",
    "\n",
    "    \n",
    "x_test = []\n",
    "y_test = []\n",
    "with open(\"TestHandschriften.pat\") as f:\n",
    "    testHandschriften = f.readlines()\n",
    "    \n",
    "with open(\"TestWindowsSchrift.pat\") as f:\n",
    "    testWindowsSchrift = f.readlines()\n",
    "    \n",
    "for i in range(0,1040):\n",
    "    x_test.append(createXArrayOneDim(i, testHandschriften))\n",
    "    y_test.append(createYArray(i, testHandschriften))\n",
    "    \n",
    "for i in range(0,104):\n",
    "    x_test.append(createXArrayOneDim(i, testWindowsSchrift))\n",
    "    y_test.append(createYArray(i, testWindowsSchrift))"
   ]
  },
  {
   "cell_type": "markdown",
   "metadata": {},
   "source": [
    "## Erstes Experiment\n",
    "\n",
    "• Netztopologie mit nur einer versteckten Schicht  \n",
    "• Musterweises Lernen  \n",
    "• einfache Initialisierung der Gewichte mit Zufallswerten zwischen -1 und 1  "
   ]
  },
  {
   "cell_type": "code",
   "execution_count": 18,
   "metadata": {
    "collapsed": false
   },
   "outputs": [
    {
     "name": "stdout",
     "output_type": "stream",
     "text": [
      "Iteration 1, loss = 17.69551147\n",
      "Iteration 2, loss = 14.57004900\n",
      "Iteration 3, loss = 5.86036291\n",
      "Iteration 4, loss = 5.73586847\n",
      "Iteration 5, loss = 4.97899918\n",
      "Iteration 6, loss = 4.83982334\n",
      "Iteration 7, loss = 4.71960442\n",
      "Iteration 8, loss = 5.65192142\n",
      "Iteration 9, loss = 5.56193347\n",
      "Iteration 10, loss = 6.53719236\n",
      "Training loss did not improve more than tol=0.000100 for two consecutive epochs. Stopping.\n"
     ]
    },
    {
     "data": {
      "text/plain": [
       "MLPClassifier(activation='relu', algorithm='sgd', alpha=0.0001,\n",
       "       batch_size='auto', beta_1=0.9, beta_2=0.999, early_stopping=False,\n",
       "       epsilon=1e-08, hidden_layer_sizes=(1,), learning_rate='constant',\n",
       "       learning_rate_init=0.1, max_iter=100, momentum=0.9,\n",
       "       nesterovs_momentum=True, power_t=0.5, random_state=1, shuffle=True,\n",
       "       tol=0.0001, validation_fraction=0.1, verbose=10, warm_start=False)"
      ]
     },
     "execution_count": 18,
     "metadata": {},
     "output_type": "execute_result"
    }
   ],
   "source": [
    "from sklearn.neural_network import MLPClassifier\n",
    "\n",
    "mlp = MLPClassifier(hidden_layer_sizes=(1,), max_iter=100, alpha=1e-4,\n",
    "                    algorithm='sgd', verbose=10, tol=1e-4, random_state=1,\n",
    "                    learning_rate_init=.1)\n",
    "\n",
    "mlp.fit(x_train, y_train)\n",
    "#print(\"Training set score: %f\" % mlp.score(x_train, y_train))\n",
    "#print(\"Test set score: %f\" % mlp.score(x_test, y_test))\n",
    "\n",
    "\n"
   ]
  }
 ],
 "metadata": {
  "celltoolbar": "Edit Metadata",
  "kernelspec": {
   "display_name": "Python 3",
   "language": "python",
   "name": "python3"
  },
  "language_info": {
   "codemirror_mode": {
    "name": "ipython",
    "version": 3
   },
   "file_extension": ".py",
   "mimetype": "text/x-python",
   "name": "python",
   "nbconvert_exporter": "python",
   "pygments_lexer": "ipython3",
   "version": "3.5.1"
  }
 },
 "nbformat": 4,
 "nbformat_minor": 0
}
