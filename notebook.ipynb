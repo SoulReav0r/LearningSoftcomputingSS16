{
 "cells": [
  {
   "cell_type": "markdown",
   "metadata": {},
   "source": [
    "# Automatische Zeichenerkennung mittels eines Backpropagation-Netzes (SS2016)"
   ]
  },
  {
   "cell_type": "markdown",
   "metadata": {},
   "source": [
    "### Cordula Eichhorn, Hannes Schröder, Meik Jejkal"
   ]
  },
  {
   "cell_type": "markdown",
   "metadata": {},
   "source": [
    "## Aufgabenstellung\n",
    "\n",
    "Aus vorgegebenen Datensätzen menschlicher Handschriftenproben sollen mittels eines neuronalen Backpropargation Netzes die jeweiligen Großbuchstaben des 26 stelligen deutschen Alphabets erkannt werden. Zur Realisierung des Projekts wurde das scikit-learn framework vorgegeben. Die Ergebnisse in Form von Erkennungs-, Falsch- zuweisungs- und Rückweisungsraten sollen bei verschiedener Parametrisierung grafisch aufgetragen und erläutert werden. Dabei spielen folgende Punkte eine übergeordnete Rolle:\n",
    "\n",
    "• Modifikation der Parameter: Lernrate, Momentum und Anfangsbelegung der Gewichte  \n",
    "• Unterstützung für reine Feedforward-Netze (Vermaschungen, Schleifen oder weiterführenden Topologien bleiben außen vor)  \n",
    "• Konstruktionen mehrlagiger Netze mit mindestens 1 und 2 versteckten Schichten\n",
    "(hidden Layers) mit jeweils wählbarer Neuronenanzahlen  \n",
    "• Unterstützung für musterweises und epochenweises Lernen  \n",
    "• Identischer innerer Aufbau der Neuronen etwa mit sigmoider Aktivierungsfunktion \n",
    "(ohne Betrachtung verschiedener Aktivierungsfunktionen für unterschiedliche Neuronen)\n",
    "• Lernen von Einzelmustern bzw. Lernen in Epochen  \n",
    "\n",
    "Um das neuronale Netz anzulernen können Windows interne Schriftarten verwendet werden. "
   ]
  },
  {
   "cell_type": "markdown",
   "metadata": {},
   "source": [
    "## Trainingsdaten\n",
    "\n",
    "Die Trainingsdaten sind sog. pattern files (.pat) und bestehen aus einer Binärbildmatrix der Größe 14x14. Diese ist allerdings nicht direkt binär codiert. Sie enthält stattdessen -0.5 als Repräsentant für 0 und 0.5 entsprechend für 1. Mit Hilfe dieser Darstellung lassen sich sowohl handgeschriebene als auch maschinell generierte Schriftarten abbilden. Die Schriftproben wurden zuvor in vorherigen Semestern gesammelt, eingescannt und in digitaler Form bereitgestellt. Einige der Windows internen Schriftarten wurden ebenfalls in diese Form gebracht. Im Folgenden ist ein Beispiel aus einer Handschriftenprobe zu sehen:"
   ]
  },
  {
   "cell_type": "code",
   "execution_count": 11,
   "metadata": {
    "collapsed": false
   },
   "outputs": [],
   "source": [
    "# Ursprungsform der Daten:\n",
    "\n",
    "M = [\n",
    "\n",
    "[-0.50, -0.50, -0.50, -0.50, -0.50, -0.50, -0.50, -0.50, -0.50,  0.50,  0.50, -0.50, -0.50, -0.50],\n",
    "[-0.50, -0.50, -0.50, -0.50, -0.50, -0.50, -0.50, -0.50,  0.50,  0.50,  0.50, -0.50, -0.50, -0.50],\n",
    "[-0.50, -0.50, -0.50, -0.50, -0.50, -0.50, -0.50, -0.50,  0.50,  0.50,  0.50, -0.50, -0.50, -0.50], \n",
    "[-0.50, -0.50, -0.50, -0.50, -0.50, -0.50, -0.50,  0.50,  0.50,  0.50,  0.50, -0.50, -0.50, -0.50], \n",
    "[-0.50, -0.50, -0.50, -0.50, -0.50, -0.50,  0.50,  0.50,  0.50,  0.50,  0.50, -0.50, -0.50, -0.50], \n",
    "[-0.50, -0.50, -0.50, -0.50, -0.50,  0.50,  0.50,  0.50, -0.50,  0.50,  0.50, -0.50, -0.50, -0.50], \n",
    "[-0.50, -0.50, -0.50, -0.50, -0.50,  0.50,  0.50, -0.50, -0.50,  0.50,  0.50, -0.50, -0.50, -0.50], \n",
    "[-0.50, -0.50, -0.50, -0.50,  0.50,  0.50,  0.50,  0.50,  0.50,  0.50,  0.50, -0.50, -0.50, -0.50], \n",
    "[-0.50, -0.50, -0.50,  0.50,  0.50,  0.50,  0.50,  0.50,  0.50,  0.50,  0.50, -0.50, -0.50, -0.50], \n",
    "[-0.50, -0.50,  0.50,  0.50,  0.50, -0.50, -0.50, -0.50, -0.50,  0.50,  0.50, -0.50, -0.50, -0.50], \n",
    "[-0.50, -0.50,  0.50,  0.50, -0.50, -0.50, -0.50, -0.50, -0.50,  0.50,  0.50, -0.50, -0.50, -0.50], \n",
    "[-0.50, -0.50, -0.50, -0.50, -0.50, -0.50, -0.50, -0.50, -0.50,  0.50,  0.50,  0.50, -0.50, -0.50], \n",
    "[-0.50, -0.50, -0.50, -0.50, -0.50, -0.50, -0.50, -0.50, -0.50,  0.50,  0.50,  0.50, -0.50, -0.50], \n",
    "[-0.50, -0.50, -0.50, -0.50, -0.50, -0.50, -0.50, -0.50, -0.50, -0.50,  0.50,  0.50, -0.50, -0.50], \n",
    "    ]\n",
    "\n",
    "# gewünschte Form\n",
    "\n",
    "Z = [\n",
    "       \n",
    "[0, 0, 0, 0, 0, 0, 0, 0, 0, 1, 1, 0, 0, 0],\n",
    "[0, 0, 0, 0, 0, 0, 0, 0, 1, 1, 1, 0, 0, 0],\n",
    "[0, 0, 0, 0, 0, 0, 0, 0, 1, 1, 1, 0, 0, 0], \n",
    "[0, 0, 0, 0, 0, 0, 0, 1, 1, 1, 1, 0, 0, 0], \n",
    "[0, 0, 0, 0, 0, 0, 1, 1, 1, 1, 1, 0, 0, 0], \n",
    "[0, 0, 0, 0, 0, 1, 1, 1, 0, 1, 1, 0, 0, 0], \n",
    "[0, 0, 0, 0, 0, 1, 1, 0, 0, 1, 1, 0, 0, 0], \n",
    "[0, 0, 0, 0, 1, 1, 1, 1, 1, 1, 1, 0, 0, 0], \n",
    "[0, 0, 0, 1, 1, 1, 1, 1, 1, 1, 1, 0, 0, 0], \n",
    "[0, 0, 1, 1, 1, 0, 0, 0, 0, 1, 1, 0, 0, 0], \n",
    "[0, 0, 1, 1, 0, 0, 0, 0, 0, 1, 1, 0, 0, 0], \n",
    "[0, 0, 0, 0, 0, 0, 0, 0, 0, 1, 1, 1, 0, 0], \n",
    "[0, 0, 0, 0, 0, 0, 0, 0, 0, 1, 1, 1, 0, 0], \n",
    "[0, 0, 0, 0, 0, 0, 0, 0, 0, 0, 1, 1, 0, 0], \n",
    "    ]"
   ]
  },
  {
   "cell_type": "code",
   "execution_count": 21,
   "metadata": {
    "collapsed": false
   },
   "outputs": [
    {
     "data": {
      "text/plain": [
       "<matplotlib.image.AxesImage at 0x7f4396ee1588>"
      ]
     },
     "execution_count": 21,
     "metadata": {},
     "output_type": "execute_result"
    },
    {
     "data": {
      "image/png": "[encoded data removed]",
      "text/plain": [
       "<matplotlib.figure.Figure at 0x7f4397217710>"
      ]
     },
     "metadata": {},
     "output_type": "display_data"
    }
   ],
   "source": [
    "%matplotlib inline\n",
    "import matplotlib.pyplot as plt\n",
    "import numpy as np\n",
    "\n",
    "\n",
    "plt.imshow(Z, interpolation='none', cmap=plt.cm.binary)"
   ]
  },
  {
   "cell_type": "markdown",
   "metadata": {},
   "source": [
    "## Erstes Experiment\n",
    "\n",
    "• Netztopologie mit nur einer versteckten Schicht  \n",
    "• Musterweises Lernen  \n",
    "• einfache Initialisierung der Gewichte mit Zufallswerten zwischen -1 und 1  "
   ]
  },
  {
   "cell_type": "code",
   "execution_count": null,
   "metadata": {
    "collapsed": true
   },
   "outputs": [],
   "source": []
  }
 ],
 "metadata": {
  "celltoolbar": "Edit Metadata",
  "kernelspec": {
   "display_name": "Python 3",
   "language": "python",
   "name": "python3"
  },
  "language_info": {
   "codemirror_mode": {
    "name": "ipython",
    "version": 3
   },
   "file_extension": ".py",
   "mimetype": "text/x-python",
   "name": "python",
   "nbconvert_exporter": "python",
   "pygments_lexer": "ipython3",
   "version": "3.5.1"
  }
 },
 "nbformat": 4,
 "nbformat_minor": 0
}
