{
 "cells": [
  {
   "cell_type": "markdown",
   "metadata": {},
   "source": [
    "# Automatische Zeichenerkennung mittels eines Backpropagation-Netzes (SS2016)"
   ]
  },
  {
   "cell_type": "markdown",
   "metadata": {},
   "source": [
    "### Hannes Schröder, Meik Jejkal"
   ]
  },
  {
   "cell_type": "markdown",
   "metadata": {},
   "source": [
    "## Aufgabenstellung\n",
    "\n",
    "Aus vorgegebenen Datensätzen menschlicher Handschriftenproben sollen mittels eines neuronalen Backpropargation Netzes die jeweiligen Großbuchstaben des 26 stelligen deutschen Alphabets erkannt werden. Zur Realisierung des Projekts wurde das scikit-learn framework vorgegeben. Die Ergebnisse in Form von Erkennungs-, Falsch- zuweisungs- und Rückweisungsraten sollen bei verschiedener Parametrisierung grafisch aufgetragen und erläutert werden. Dabei spielen folgende Punkte eine übergeordnete Rolle:\n",
    "\n",
    "• Modifikation der Parameter: Lernrate, Momentum und Anfangsbelegung der Gewichte  \n",
    "• Unterstützung für reine Feedforward-Netze (Vermaschungen, Schleifen oder weiterführenden Topologien bleiben außen vor)  \n",
    "• Konstruktionen mehrlagiger Netze mit mindestens 1 und 2 versteckten Schichten\n",
    "(hidden Layers) mit jeweils wählbarer Neuronenanzahlen  \n",
    "• Unterstützung für musterweises und epochenweises Lernen  \n",
    "• Identischer innerer Aufbau der Neuronen etwa mit sigmoider Aktivierungsfunktion \n",
    "(ohne Betrachtung verschiedener Aktivierungsfunktionen für unterschiedliche Neuronen)\n",
    "• Lernen von Einzelmustern bzw. Lernen in Epochen  \n",
    "\n",
    "Um das neuronale Netz anzulernen können Windows interne Schriftarten verwendet werden. "
   ]
  },
  {
   "cell_type": "markdown",
   "metadata": {},
   "source": [
    "## Trainingsdaten\n",
    "\n",
    "Die Trainingsdaten sind sog. pattern files (.pat) und bestehen aus einer Binärbildmatrix der Größe 14x14. Diese ist allerdings nicht direkt binär codiert. Sie enthält stattdessen -0.5 als Repräsentant für 0 und 0.5 entsprechend für 1. Mit Hilfe dieser Darstellung lassen sich sowohl handgeschriebene als auch maschinell generierte Schriftarten abbilden. Die Schriftproben wurden zuvor in vorherigen Semestern gesammelt, eingescannt und in digitaler Form bereitgestellt. Einige der Windows internen Schriftarten wurden ebenfalls in diese Form gebracht. Im Folgenden ist ein Beispiel aus einer Handschriftenprobe zu sehen:"
   ]
  },
  {
   "cell_type": "code",
   "execution_count": 1,
   "metadata": {
    "collapsed": false
   },
   "outputs": [],
   "source": [
    "# Ursprungsform der Daten:\n",
    "\n",
    "M = [\n",
    "\n",
    "[-0.50, -0.50, -0.50, -0.50, -0.50, -0.50, -0.50, -0.50, -0.50,  0.50,  0.50, -0.50, -0.50, -0.50],\n",
    "[-0.50, -0.50, -0.50, -0.50, -0.50, -0.50, -0.50, -0.50,  0.50,  0.50,  0.50, -0.50, -0.50, -0.50],\n",
    "[-0.50, -0.50, -0.50, -0.50, -0.50, -0.50, -0.50, -0.50,  0.50,  0.50,  0.50, -0.50, -0.50, -0.50], \n",
    "[-0.50, -0.50, -0.50, -0.50, -0.50, -0.50, -0.50,  0.50,  0.50,  0.50,  0.50, -0.50, -0.50, -0.50], \n",
    "[-0.50, -0.50, -0.50, -0.50, -0.50, -0.50,  0.50,  0.50,  0.50,  0.50,  0.50, -0.50, -0.50, -0.50], \n",
    "[-0.50, -0.50, -0.50, -0.50, -0.50,  0.50,  0.50,  0.50, -0.50,  0.50,  0.50, -0.50, -0.50, -0.50], \n",
    "[-0.50, -0.50, -0.50, -0.50, -0.50,  0.50,  0.50, -0.50, -0.50,  0.50,  0.50, -0.50, -0.50, -0.50], \n",
    "[-0.50, -0.50, -0.50, -0.50,  0.50,  0.50,  0.50,  0.50,  0.50,  0.50,  0.50, -0.50, -0.50, -0.50], \n",
    "[-0.50, -0.50, -0.50,  0.50,  0.50,  0.50,  0.50,  0.50,  0.50,  0.50,  0.50, -0.50, -0.50, -0.50], \n",
    "[-0.50, -0.50,  0.50,  0.50,  0.50, -0.50, -0.50, -0.50, -0.50,  0.50,  0.50, -0.50, -0.50, -0.50], \n",
    "[-0.50, -0.50,  0.50,  0.50, -0.50, -0.50, -0.50, -0.50, -0.50,  0.50,  0.50, -0.50, -0.50, -0.50], \n",
    "[-0.50, -0.50, -0.50, -0.50, -0.50, -0.50, -0.50, -0.50, -0.50,  0.50,  0.50,  0.50, -0.50, -0.50], \n",
    "[-0.50, -0.50, -0.50, -0.50, -0.50, -0.50, -0.50, -0.50, -0.50,  0.50,  0.50,  0.50, -0.50, -0.50], \n",
    "[-0.50, -0.50, -0.50, -0.50, -0.50, -0.50, -0.50, -0.50, -0.50, -0.50,  0.50,  0.50, -0.50, -0.50], \n",
    "    ]\n",
    "\n",
    "# gewünschte Form\n",
    "\n",
    "Z = [\n",
    "       \n",
    "[0, 0, 0, 0, 0, 0, 0, 0, 0, 1, 1, 0, 0, 0],\n",
    "[0, 0, 0, 0, 0, 0, 0, 0, 1, 1, 1, 0, 0, 0],\n",
    "[0, 0, 0, 0, 0, 0, 0, 0, 1, 1, 1, 0, 0, 0], \n",
    "[0, 0, 0, 0, 0, 0, 0, 1, 1, 1, 1, 0, 0, 0], \n",
    "[0, 0, 0, 0, 0, 0, 1, 1, 1, 1, 1, 0, 0, 0], \n",
    "[0, 0, 0, 0, 0, 1, 1, 1, 0, 1, 1, 0, 0, 0], \n",
    "[0, 0, 0, 0, 0, 1, 1, 0, 0, 1, 1, 0, 0, 0], \n",
    "[0, 0, 0, 0, 1, 1, 1, 1, 1, 1, 1, 0, 0, 0], \n",
    "[0, 0, 0, 1, 1, 1, 1, 1, 1, 1, 1, 0, 0, 0], \n",
    "[0, 0, 1, 1, 1, 0, 0, 0, 0, 1, 1, 0, 0, 0], \n",
    "[0, 0, 1, 1, 0, 0, 0, 0, 0, 1, 1, 0, 0, 0], \n",
    "[0, 0, 0, 0, 0, 0, 0, 0, 0, 1, 1, 1, 0, 0], \n",
    "[0, 0, 0, 0, 0, 0, 0, 0, 0, 1, 1, 1, 0, 0], \n",
    "[0, 0, 0, 0, 0, 0, 0, 0, 0, 0, 1, 1, 0, 0], \n",
    "    ]"
   ]
  },
  {
   "cell_type": "code",
   "execution_count": 2,
   "metadata": {
    "collapsed": false
   },
   "outputs": [
    {
     "data": {
      "text/plain": [
       "<matplotlib.image.AxesImage at 0x7f3727b05fd0>"
      ]
     },
     "execution_count": 2,
     "metadata": {},
     "output_type": "execute_result"
    },
    {
     "data": {
      "image/png": "[encoded data removed]",
      "text/plain": [
       "<matplotlib.figure.Figure at 0x7f374c5f0da0>"
      ]
     },
     "metadata": {},
     "output_type": "display_data"
    }
   ],
   "source": [
    "#diese Matrizenform kann anschließen grafisch dargestellt werden, sodass man den Buchstaben auch deutlich erkennen kann.\n",
    "%matplotlib inline\n",
    "import matplotlib.pyplot as plt\n",
    "import numpy as np\n",
    "\n",
    "\n",
    "plt.imshow(Z, interpolation='none', cmap=plt.cm.binary)"
   ]
  },
  {
   "cell_type": "markdown",
   "metadata": {},
   "source": [
    "Trainingsdaten und Testdaten aus den .pat-Dateien lesen und in ein Binärformat umwandeln. Hierzu werden die Hilfsfunktionen createXArrayOneDim, createXArrayTwoDim und createYArray verwendet."
   ]
  },
  {
   "cell_type": "code",
   "execution_count": 3,
   "metadata": {
    "collapsed": true
   },
   "outputs": [],
   "source": [
    "#createXArrayOneDim wird benötigt um die Daten in das richtige Datenformat \n",
    "#für die fit()-Funktion vom MLPClassifier umzuwandeln.\n",
    "def createXArrayOneDim(char_pos, data):\n",
    "    pos = 4 + char_pos*(input_rows+1)\n",
    "    x_list = []\n",
    "    for i in range(pos,input_rows + pos):\n",
    "        x_list.extend(np.array([float(x) for x in data[i].split()]))\n",
    "    x_array = np.asarray(x_list)\n",
    "    x_array[x_array == 0.5] = 1\n",
    "    x_array[x_array == -0.5] = 0\n",
    "    return x_array\n",
    "\n",
    "#Ein zweidimensionales Array wird zur graphisches Darstellung (z.B. mit plt.imshow()) benötigt.\n",
    "def createXArrayTwoDim(char_pos, data):\n",
    "    pos = 4 + char_pos*(input_rows+1)\n",
    "    x_list = []\n",
    "    for i in range(pos,input_rows + pos):\n",
    "        x_list.append(np.array([float(x) for x in data[i].split()]))\n",
    "    x_array = np.asarray(x_list)\n",
    "    x_array[x_array == 0.5] = 1\n",
    "    x_array[x_array == -0.5] = 0\n",
    "    return x_array\n",
    "    \n",
    "def createYArray(char_pos, data):\n",
    "    pos = 4 + input_rows + char_pos*(input_rows+1)\n",
    "    y_list=[]\n",
    "    y_list.extend(np.array([float(x) for x in data[pos].split()]))\n",
    "    y_array = np.asarray(y_list)\n",
    "    y_array[y_array == 0.2] = 0\n",
    "    y_array[y_array == 0.8] = 1\n",
    "    return y_array\n",
    "\n",
    "def score(x, expected, mlp):\n",
    "    correct_predicted = 0\n",
    "    for i in range(0, len(x)):\n",
    "        predicted = mlp.predict(x[i].reshape(1, -1))[0]\n",
    "        if (np.array_equal(predicted,expected[i])):\n",
    "            correct_predicted += 1\n",
    "    return correct_predicted / len(x) * 100\n",
    "\n",
    "fname = \"Trainingsdaten.pat\"\n",
    "with open(fname) as f:\n",
    "    trainingsdaten = f.readlines()\n",
    "\n",
    "labels = ['A','B','C','D','E','F','G','H','I','J','K','L','M','N','O','P','Q','R','S','T','U','V','W','X','Y','Z']\n",
    "input_rows = int(trainingsdaten[0])\n",
    "input_columns = int(trainingsdaten[1])\n",
    "output_rows = int(trainingsdaten[2])\n",
    "output_columns = int(trainingsdaten[3])"
   ]
  },
  {
   "cell_type": "code",
   "execution_count": 4,
   "metadata": {
    "collapsed": false
   },
   "outputs": [
    {
     "name": "stdout",
     "output_type": "stream",
     "text": [
      "[ 0.  0.  0.  0.  0.  1.  1.  1.  1.  0.  0.  0.  0.  0.  0.  0.  0.  0.\n",
      "  0.  1.  1.  1.  1.  0.  0.  0.  0.  0.  0.  0.  0.  0.  0.  1.  1.  1.\n",
      "  1.  0.  0.  0.  0.  0.  0.  0.  0.  0.  1.  1.  1.  1.  1.  1.  0.  0.\n",
      "  0.  0.  0.  0.  0.  0.  1.  1.  0.  0.  1.  1.  0.  0.  0.  0.  0.  0.\n",
      "  0.  0.  1.  1.  0.  0.  1.  1.  0.  0.  0.  0.  0.  0.  0.  1.  1.  1.\n",
      "  0.  0.  1.  1.  1.  0.  0.  0.  0.  0.  0.  1.  1.  0.  0.  0.  0.  1.\n",
      "  1.  0.  0.  0.  0.  0.  0.  1.  1.  1.  1.  1.  1.  1.  1.  0.  0.  0.\n",
      "  0.  0.  1.  1.  1.  1.  1.  1.  1.  1.  1.  1.  0.  0.  0.  0.  1.  1.\n",
      "  0.  0.  0.  0.  0.  1.  1.  1.  0.  0.  0.  0.  1.  1.  0.  0.  0.  0.\n",
      "  0.  0.  1.  1.  0.  0.  0.  1.  1.  1.  0.  0.  0.  0.  0.  0.  1.  1.\n",
      "  1.  0.  0.  1.  1.  0.  0.  0.  0.  0.  0.  0.  1.  1.  1.  0.]\n"
     ]
    },
    {
     "data": {
      "text/plain": [
       "<matplotlib.image.AxesImage at 0x7f37277ca5f8>"
      ]
     },
     "execution_count": 4,
     "metadata": {},
     "output_type": "execute_result"
    },
    {
     "data": {
      "image/png": "[encoded data removed]",
      "text/plain": [
       "<matplotlib.figure.Figure at 0x7f3727b53ba8>"
      ]
     },
     "metadata": {},
     "output_type": "display_data"
    }
   ],
   "source": [
    "#Charnummerierung beginnt bei 0: 0=A, 1=B, 2=C, 3=D, ...\n",
    "char = 0;\n",
    "x_array = createXArrayOneDim(char, trainingsdaten)\n",
    "y_array = createYArray(char, trainingsdaten)\n",
    "print(x_array)\n",
    "plt.imshow(createXArrayTwoDim(char, trainingsdaten), interpolation='none', cmap=plt.cm.binary)"
   ]
  },
  {
   "cell_type": "markdown",
   "metadata": {},
   "source": [
    "Nachdem die Trainingsdaten eingelesen wurden, werden jetzt auch die Testdaten (Windows-Schriften und Handschriften) eingelesen und in das richtige Datenformat umgewandelt. Alle Testdaten sind danach in x_test bzw y_test vorhanden."
   ]
  },
  {
   "cell_type": "code",
   "execution_count": 5,
   "metadata": {
    "collapsed": true
   },
   "outputs": [],
   "source": [
    "x_train = []\n",
    "y_train = []\n",
    "for i in range(0, 260):\n",
    "    x_train.append(createXArrayOneDim(i, trainingsdaten));\n",
    "    y_train.append(createYArray(i, trainingsdaten));\n",
    "\n",
    "x_testH = []\n",
    "y_testH = []\n",
    "x_testW = []\n",
    "y_testW = []\n",
    "x_testAll = []\n",
    "y_testAll = []\n",
    "\n",
    "with open(\"TestHandschriften.pat\") as f:\n",
    "    testHandschriften = f.readlines()\n",
    "    \n",
    "with open(\"TestWindowsSchrift.pat\") as f:\n",
    "    testWindowsSchrift = f.readlines()\n",
    "    \n",
    "for i in range(0,1040):\n",
    "    x_testH.append(createXArrayOneDim(i, testHandschriften))\n",
    "    y_testH.append(createYArray(i, testHandschriften))\n",
    "    \n",
    "for i in range(0,104):\n",
    "    x_testW.append(createXArrayOneDim(i, testWindowsSchrift))\n",
    "    y_testW.append(createYArray(i, testWindowsSchrift))\n",
    "\n",
    "x_testAll.extend(x_testH)\n",
    "x_testAll.extend(x_testW)\n",
    "y_testAll.extend(y_testH)\n",
    "y_testAll.extend(y_testW)"
   ]
  },
  {
   "cell_type": "code",
   "execution_count": 6,
   "metadata": {
    "collapsed": true
   },
   "outputs": [],
   "source": [
    "def determinePredictedCharacters(predictedArray):\n",
    "    chars = []\n",
    "    for i in range(0,25):\n",
    "        if (predictedArray[i] == 1):\n",
    "            chars.append(labels[i])\n",
    "    return ', '.join(chars)"
   ]
  },
  {
   "cell_type": "markdown",
   "metadata": {},
   "source": [
    "## Erstes Experiment\n",
    "\n",
    "+ Netztopologie mit nur einer versteckten Schicht\n",
    "+ Musterweises Lernen  \n",
    "+ einfache Initialisierung der Gewichte mit Zufallswerten zwischen -1 und 1  "
   ]
  },
  {
   "cell_type": "code",
   "execution_count": 7,
   "metadata": {
    "collapsed": false
   },
   "outputs": [
    {
     "data": {
      "text/plain": [
       "MLPClassifier(activation='tanh', algorithm='l-bfgs', alpha=0.0001,\n",
       "       batch_size='auto', beta_1=0.9, beta_2=0.999, early_stopping=False,\n",
       "       epsilon=1e-08, hidden_layer_sizes=100, learning_rate='adaptive',\n",
       "       learning_rate_init=0.001, max_iter=100, momentum=0.9,\n",
       "       nesterovs_momentum=True, power_t=0.5, random_state=None,\n",
       "       shuffle=True, tol=1e-08, validation_fraction=0.1, verbose=False,\n",
       "       warm_start=False)"
      ]
     },
     "execution_count": 7,
     "metadata": {},
     "output_type": "execute_result"
    }
   ],
   "source": [
    "from sklearn.neural_network import MLPClassifier\n",
    "\n",
    "mlpSimple = MLPClassifier(activation='tanh', hidden_layer_sizes=(100), max_iter=100, alpha=1e-4,\n",
    "                    algorithm='l-bfgs', learning_rate='adaptive', verbose=False, tol=1e-8, \n",
    "                    learning_rate_init=.001)\n",
    "\n",
    "mlpSimple.fit(x_train, y_train)"
   ]
  },
  {
   "cell_type": "code",
   "execution_count": 8,
   "metadata": {
    "collapsed": false
   },
   "outputs": [
    {
     "name": "stdout",
     "output_type": "stream",
     "text": [
      "Training set loss: 0.000313\n",
      "Training set score: 100.000000\n"
     ]
    }
   ],
   "source": [
    "# nur ein kurzer Test, wie gut die Buchstaben erkannt werden, die dem Neuronalen Netz bereits bekannt sind:\n",
    "print(\"Training set loss: %f\" % mlpSimple.loss_)\n",
    "print(\"Training set score: %f\" % score(x_train, y_train, mlpSimple))"
   ]
  },
  {
   "cell_type": "markdown",
   "metadata": {},
   "source": [
    "Anschließend werden die bisher noch unbekannten Buchstaben (Windowsschriften) getestet und der MLPClassifier soll versuchen diese Buchstaben zu erkennen. \n",
    "\n",
    "Die Grafik wird wie folgt interpretiert: Der Buchstabe vor dem Doppelpunkt zeigt an welcher Buchstabe vorliegt. In den geschweiften Klammern steht, welche Buchstaben der MLPClassifiert erkannt hat. Unter diesen Infos wird der Buchstabe grafisch dargestellt.\n",
    "\n",
    "Bei dieser Stichprobe wurden fast alle Buchstaben erkannt. Lediglich das Z konnte nicht zugeordnet werden."
   ]
  },
  {
   "cell_type": "code",
   "execution_count": 9,
   "metadata": {
    "collapsed": false
   },
   "outputs": [
    {
     "data": {
      "image/png": "[encoded data removed]",
      "text/plain": [
       "<matplotlib.figure.Figure at 0x7f371f2420b8>"
      ]
     },
     "metadata": {},
     "output_type": "display_data"
    },
    {
     "name": "stdout",
     "output_type": "stream",
     "text": [
      "Test set score: 72.115385\n"
     ]
    }
   ],
   "source": [
    "fig, ax = plt.subplots(nrows=5, ncols=6, sharex=True, sharey=True)\n",
    "ax = ax.flatten()\n",
    "\n",
    "for i in range(0,26):\n",
    "    predictedArray = mlpSimple.predict(x_testW[i].reshape(1, -1))[0]\n",
    "    img = x_testW[i].reshape(14,14)\n",
    "    ax[i].imshow(img, cmap='Greys', interpolation='nearest')\n",
    "    ax[i].set_title('%s: {%s}' % (labels[i], determinePredictedCharacters(predictedArray)))\n",
    "\n",
    "ax[0].set_xticks([])\n",
    "ax[0].set_yticks([])\n",
    "plt.tight_layout()\n",
    "plt.show()\n",
    "\n",
    "print(\"Test set score: %f\" % score(x_testW, y_testW, mlpSimple))"
   ]
  },
  {
   "cell_type": "markdown",
   "metadata": {},
   "source": [
    "An der Testpunktzahl von ca 70% ist aber schon ersichtlich, dass es auch Schriftarten gibt, die schlechter erkannt werden, als diese Stichprobe. Zu den eher schlecht erkannten Schriftarten gehört die folgende:"
   ]
  },
  {
   "cell_type": "code",
   "execution_count": 10,
   "metadata": {
    "collapsed": false
   },
   "outputs": [
    {
     "data": {
      "image/png": "[encoded data removed]",
      "text/plain": [
       "<matplotlib.figure.Figure at 0x7f371ea56a58>"
      ]
     },
     "metadata": {},
     "output_type": "display_data"
    }
   ],
   "source": [
    "fig, ax = plt.subplots(nrows=5, ncols=6, sharex=True, sharey=True)\n",
    "ax = ax.flatten()\n",
    "\n",
    "font = 3\n",
    "for i in range(0,26):\n",
    "    predictedArray = mlpSimple.predict(x_testW[i + font*26].reshape(1, -1))[0]\n",
    "    img = x_testW[i + font*26].reshape(14,14)\n",
    "    ax[i].imshow(img, cmap='Greys', interpolation='nearest')\n",
    "    ax[i].set_title('%s: {%s}' % (labels[i], determinePredictedCharacters(predictedArray)))\n",
    "\n",
    "ax[0].set_xticks([])\n",
    "ax[0].set_yticks([])\n",
    "plt.tight_layout()\n",
    "plt.show()"
   ]
  },
  {
   "cell_type": "markdown",
   "metadata": {},
   "source": [
    "Mit den selben Einstellungen und den selben Trainigsdaten versucht der MLPClassifier die handgeschriebenen Buchstaben zu erkennen:\n",
    "\n",
    "Hier sieht das ganze schon deutlich schlechter aus. Lediglich die Hälfte der Buchstaben werden erkannt."
   ]
  },
  {
   "cell_type": "code",
   "execution_count": 11,
   "metadata": {
    "collapsed": false
   },
   "outputs": [
    {
     "data": {
      "image/png": "[encoded data removed]",
      "text/plain": [
       "<matplotlib.figure.Figure at 0x7f371e175668>"
      ]
     },
     "metadata": {},
     "output_type": "display_data"
    },
    {
     "name": "stdout",
     "output_type": "stream",
     "text": [
      "Test set score: 50.865385\n"
     ]
    }
   ],
   "source": [
    "fig, ax = plt.subplots(nrows=5, ncols=6, sharex=True, sharey=True)\n",
    "ax = ax.flatten()\n",
    "\n",
    "for i in range(0,26):\n",
    "    predictedArray = mlpSimple.predict(x_testH[i].reshape(1, -1))[0]\n",
    "    img = x_testH[i].reshape(14,14)\n",
    "    ax[i].imshow(img, cmap='Greys', interpolation='nearest')\n",
    "    ax[i].set_title('%s: {%s}' % (labels[i], determinePredictedCharacters(predictedArray)))\n",
    "\n",
    "ax[0].set_xticks([])\n",
    "ax[0].set_yticks([])\n",
    "plt.tight_layout()\n",
    "plt.show()\n",
    "print(\"Test set score: %f\" % score(x_testH, y_testH, mlpSimple))"
   ]
  },
  {
   "cell_type": "markdown",
   "metadata": {},
   "source": [
    "Die nächste Statistik verdeutlicht, wie gut die einzelnen Buchstaben in allen Schriftarten erkannt werden.\n",
    "\n",
    "Es ist gut zu erkennen, das die niedrigste Erkennungsrate eines einzelnen Buchstaben bei 50% liegt."
   ]
  },
  {
   "cell_type": "code",
   "execution_count": 12,
   "metadata": {
    "collapsed": false
   },
   "outputs": [
    {
     "data": {
      "image/png": "[encoded data removed]",
      "text/plain": [
       "<matplotlib.figure.Figure at 0x7f371ea561d0>"
      ]
     },
     "metadata": {},
     "output_type": "display_data"
    }
   ],
   "source": [
    "def getCharList(x, char):\n",
    "    charList = []\n",
    "    for i in range(0, int(len(x)/26)):\n",
    "        charList.append(x[char + 26*i])\n",
    "    return charList\n",
    "    \n",
    "\n",
    "def recognition_rate_per_char(x, y, mlp):\n",
    "    recognition_rate = []\n",
    "    for char in range(0, 26):\n",
    "        x_char = getCharList(x, char)\n",
    "        y_char = getCharList(y, char)\n",
    "        #print_char_list(x_char)\n",
    "        char_recog_rate = score(x_char, y_char, mlp)\n",
    "        recognition_rate.append(char_recog_rate)\n",
    "    #print(recognition_rate)\n",
    "    return recognition_rate\n",
    "\n",
    "recognition_rateW = recognition_rate_per_char(x_testW, y_testW, mlpSimple)\n",
    "plt.bar(range(0, 26), recognition_rateW, align='center')\n",
    "plt.xticks(range(0, 26), labels)\n",
    "plt.title('Erkennungsrate der Windowsschriften')\n",
    "plt.show()"
   ]
  },
  {
   "cell_type": "markdown",
   "metadata": {},
   "source": [
    "Bei den Handgeschriebenen Schriften ist die Erkennungsrate deutlich gestreuter. Die Buchstaben 'B' und 'Q' werden zu weniger als 20% erkannt. Lediglich 'C' wird immer richtig erkannt."
   ]
  },
  {
   "cell_type": "code",
   "execution_count": 13,
   "metadata": {
    "collapsed": false
   },
   "outputs": [
    {
     "data": {
      "image/png": "[encoded data removed]",
      "text/plain": [
       "<matplotlib.figure.Figure at 0x7f371eadc0b8>"
      ]
     },
     "metadata": {},
     "output_type": "display_data"
    }
   ],
   "source": [
    "recognition_rateH = recognition_rate_per_char(x_testH, y_testH, mlpSimple)\n",
    "plt.bar(range(0, 26), recognition_rateH, align='center')\n",
    "plt.xticks(range(0, 26), labels)\n",
    "plt.title('Erkennungsrate der Handschriften')\n",
    "plt.show()"
   ]
  },
  {
   "cell_type": "code",
   "execution_count": 14,
   "metadata": {
    "collapsed": false
   },
   "outputs": [
    {
     "data": {
      "image/png": "[encoded data removed]",
      "text/plain": [
       "<matplotlib.figure.Figure at 0x7f371eefd198>"
      ]
     },
     "metadata": {},
     "output_type": "display_data"
    },
    {
     "data": {
      "image/png": "[encoded data removed]",
      "text/plain": [
       "<matplotlib.figure.Figure at 0x7f371e38d048>"
      ]
     },
     "metadata": {},
     "output_type": "display_data"
    }
   ],
   "source": [
    "def print_char_list(chars, mlp):\n",
    "    fig, ax = plt.subplots(nrows=4, ncols=5, sharex=True, sharey=True)\n",
    "    ax = ax.flatten()\n",
    "    for i in range(0,20):\n",
    "        predictedArray = mlp.predict(chars[i].reshape(1, -1))[0]\n",
    "        img = chars[i].reshape(14,14)\n",
    "        ax[i].imshow(img, cmap='Greys', interpolation='nearest')\n",
    "        ax[i].set_title('{%s}' % (determinePredictedCharacters(predictedArray)))\n",
    "    ax[0].set_xticks([])\n",
    "    ax[0].set_yticks([])\n",
    "    plt.tight_layout()\n",
    "    plt.show()\n",
    "\n",
    "b_list = getCharList(x_testH, 1)\n",
    "print_char_list(b_list[:20], mlpSimple)\n",
    "print_char_list(b_list[20:], mlpSimple)"
   ]
  },
  {
   "cell_type": "markdown",
   "metadata": {},
   "source": [
    "Obwohl die meisten 'B's sehr deutlich zu erkennen sind, hat der MLPClassifier erhebliche Probleme.\n",
    "Aber es gibt auch nur eine Fehlklassifizierung. \n",
    "\n",
    "Auch bei den 'Q's gibt es bei der Klassifizierung Probleme. Das Q wird oft auch als O oder R erkannt:"
   ]
  },
  {
   "cell_type": "code",
   "execution_count": 15,
   "metadata": {
    "collapsed": false
   },
   "outputs": [
    {
     "data": {
      "image/png": "[encoded data removed]",
      "text/plain": [
       "<matplotlib.figure.Figure at 0x7f371eefe278>"
      ]
     },
     "metadata": {},
     "output_type": "display_data"
    },
    {
     "data": {
      "image/png": "[encoded data removed]",
      "text/plain": [
       "<matplotlib.figure.Figure at 0x7f371e4aa5c0>"
      ]
     },
     "metadata": {},
     "output_type": "display_data"
    }
   ],
   "source": [
    "q_list = getCharList(x_testH, 16)\n",
    "print_char_list(q_list[:20], mlpSimple)\n",
    "print_char_list(q_list[20:], mlpSimple)"
   ]
  },
  {
   "cell_type": "markdown",
   "metadata": {},
   "source": [
    "MLPClassifier mit zwei Hidden-Layer:"
   ]
  },
  {
   "cell_type": "code",
   "execution_count": 16,
   "metadata": {
    "collapsed": false
   },
   "outputs": [
    {
     "name": "stdout",
     "output_type": "stream",
     "text": [
      "Test set score Windows fonts: 75.000000\n",
      "Test set score handwritten fonts: 52.403846\n"
     ]
    }
   ],
   "source": [
    "mlp2Hidden = MLPClassifier(activation='tanh', hidden_layer_sizes=(100, 100), max_iter=100, alpha=1e-4,\n",
    "                    algorithm='l-bfgs', learning_rate='adaptive', verbose=False, tol=1e-8, \n",
    "                    learning_rate_init=.001)\n",
    "\n",
    "mlp2Hidden.fit(x_train, y_train)\n",
    "\n",
    "print(\"Test set score Windows fonts: %f\" % score(x_testW, y_testW, mlp2Hidden))\n",
    "print(\"Test set score handwritten fonts: %f\" % score(x_testH, y_testH, mlp2Hidden))"
   ]
  },
  {
   "cell_type": "markdown",
   "metadata": {},
   "source": [
    "MLPClassifier mit drei Hidden-Layer:"
   ]
  },
  {
   "cell_type": "code",
   "execution_count": 17,
   "metadata": {
    "collapsed": false
   },
   "outputs": [
    {
     "name": "stdout",
     "output_type": "stream",
     "text": [
      "Test set score Windows fonts: 68.269231\n",
      "Test set score handwritten fonts: 52.884615\n"
     ]
    }
   ],
   "source": [
    "mlp3Hidden = MLPClassifier(activation='tanh', hidden_layer_sizes=(100, 100, 100), max_iter=100, alpha=1e-4,\n",
    "                    algorithm='l-bfgs', learning_rate='adaptive', verbose=False, tol=1e-8, \n",
    "                    learning_rate_init=.001)\n",
    "\n",
    "mlp3Hidden.fit(x_train, y_train)\n",
    "\n",
    "print(\"Test set score Windows fonts: %f\" % score(x_testW, y_testW, mlp3Hidden))\n",
    "print(\"Test set score handwritten fonts: %f\" % score(x_testH, y_testH, mlp3Hidden))"
   ]
  },
  {
   "cell_type": "markdown",
   "metadata": {},
   "source": [
    "Nun stellt sich die Frage, wie viele Hidden Layer und welche Neuronen Aufteilung zu dem Besten Ergebnis führen.\n",
    "Hierzu versuchen wir die Vorschläge aus dem Buch \"Introduction to Neural Networks for Java, Second Edition\" umzusetzen, die wie folgt lauten:\n",
    "\n",
    "> ### Number of Hidden Layers ###\n",
    ">\n",
    "> + 0 - Only capable of representing linear separable functions or decisions.\n",
    ">\n",
    "> + 1 - Can approximate any function that contains a continuous mapping from one finite space to another.\n",
    ">\n",
    "> + 2 - Can represent an arbitrary decision boundary to arbitrary accuracy with rational activation functions and can approximate any smooth mapping to any accuracy.\n",
    "\n",
    "> ### Number of Neurons ###\n",
    "\n",
    "> + The number of hidden neurons should be between the size of the input layer and the size of the output layer.\n",
    "> + The number of hidden neurons should be 2/3 the size of the input layer, plus the size of the output layer.\n",
    "> + The number of hidden neurons should be less than twice the size of the input layer.\n",
    "\n",
    "Wenn wir uns an diese Richtlinien halten, benötigen wir ein bis zwei Hidden Layer.\n",
    "Das Input Layer hat 196 Neuronen und das Output Layer hat 26 Neuronen.\n",
    "Dementsprechend sollten unsere Hidden Neuronen in folgendem Bereich liegen:\n",
    "+ zwischen 196 und 26\n",
    "+ 2/3 * 196 + 26 = 157\n",
    "+ kleiner als 2 * 196\n",
    "\n"
   ]
  },
  {
   "cell_type": "code",
   "execution_count": 18,
   "metadata": {
    "collapsed": false
   },
   "outputs": [
    {
     "name": "stdout",
     "output_type": "stream",
     "text": [
      "Test set score Windows fonts: 75.000000\n",
      "Test set score handwritten fonts: 56.923077\n"
     ]
    }
   ],
   "source": [
    "mlp3HiddenThumbRule1 = MLPClassifier(activation='tanh', hidden_layer_sizes=(157, 157, 157), max_iter=100, alpha=1e-4,\n",
    "                    algorithm='l-bfgs', learning_rate='adaptive', verbose=False, tol=1e-8, \n",
    "                    learning_rate_init=.001)\n",
    "\n",
    "mlp3HiddenThumbRule1.fit(x_train, y_train)\n",
    "\n",
    "print(\"Test set score Windows fonts: %f\" % score(x_testW, y_testW, mlp3HiddenThumbRule1))\n",
    "print(\"Test set score handwritten fonts: %f\" % score(x_testH, y_testH, mlp3HiddenThumbRule1))"
   ]
  },
  {
   "cell_type": "markdown",
   "metadata": {},
   "source": [
    "Eine andere Daumenregel lautet, dass man bei zwei Hidden Layern einfach den Mittelwert zwischen Eingangsneuronen und Ausgangsneuronen nimmt.\n",
    "Dies wäre in unserem Fall (196+26)/2=111"
   ]
  },
  {
   "cell_type": "code",
   "execution_count": 19,
   "metadata": {
    "collapsed": false
   },
   "outputs": [
    {
     "name": "stdout",
     "output_type": "stream",
     "text": [
      "Test set score Windows fonts: 78.846154\n",
      "Test set score handwritten fonts: 56.442308\n"
     ]
    }
   ],
   "source": [
    "mlp3HiddenThumbRule2 = MLPClassifier(activation='tanh', hidden_layer_sizes=(111, 111), max_iter=100, alpha=1e-4,\n",
    "                    algorithm='l-bfgs', learning_rate='adaptive', verbose=False, tol=1e-8, \n",
    "                    learning_rate_init=.001)\n",
    "\n",
    "mlp3HiddenThumbRule2.fit(x_train, y_train)\n",
    "\n",
    "print(\"Test set score Windows fonts: %f\" % score(x_testW, y_testW, mlp3HiddenThumbRule2))\n",
    "print(\"Test set score handwritten fonts: %f\" % score(x_testH, y_testH, mlp3HiddenThumbRule2))"
   ]
  }
 ],
 "metadata": {
  "celltoolbar": "Edit Metadata",
  "kernelspec": {
   "display_name": "Python 3",
   "language": "python",
   "name": "python3"
  },
  "language_info": {
   "codemirror_mode": {
    "name": "ipython",
    "version": 3
   },
   "file_extension": ".py",
   "mimetype": "text/x-python",
   "name": "python",
   "nbconvert_exporter": "python",
   "pygments_lexer": "ipython3",
   "version": "3.5.1"
  }
 },
 "nbformat": 4,
 "nbformat_minor": 0
}
